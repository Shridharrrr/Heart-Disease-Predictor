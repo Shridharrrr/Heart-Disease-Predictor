{
  "nbformat": 4,
  "nbformat_minor": 0,
  "metadata": {
    "colab": {
      "provenance": []
    },
    "kernelspec": {
      "name": "python3",
      "display_name": "Python 3"
    },
    "language_info": {
      "name": "python"
    }
  },
  "cells": [
    {
      "cell_type": "code",
      "execution_count": 3,
      "metadata": {
        "colab": {
          "base_uri": "https://localhost:8080/"
        },
        "id": "RGH7p-g7rP8D",
        "outputId": "5a6c1b50-256c-4ce4-8537-5b309da0652c"
      },
      "outputs": [
        {
          "output_type": "stream",
          "name": "stdout",
          "text": [
            "\n",
            "Probability of heart disease given old age:\n",
            "+-----------+---------------+\n",
            "| target    |   phi(target) |\n",
            "+===========+===============+\n",
            "| target(0) |        0.4577 |\n",
            "+-----------+---------------+\n",
            "| target(1) |        0.5423 |\n",
            "+-----------+---------------+\n",
            "\n",
            "Probability of heart disease given young age:\n",
            "+-----------+---------------+\n",
            "| target    |   phi(target) |\n",
            "+===========+===============+\n",
            "| target(0) |        0.4534 |\n",
            "+-----------+---------------+\n",
            "| target(1) |        0.5466 |\n",
            "+-----------+---------------+\n",
            "\n",
            "Cholesterol distribution given heart disease and high fasting blood sugar:\n",
            "+------------+-------------+\n",
            "| chol       |   phi(chol) |\n",
            "+============+=============+\n",
            "| chol(high) |      0.0305 |\n",
            "+------------+-------------+\n",
            "| chol(low)  |      0.9695 |\n",
            "+------------+-------------+\n",
            "\n",
            "Max heart rate distribution given no heart disease:\n",
            "+---------------+----------------+\n",
            "| thalach       |   phi(thalach) |\n",
            "+===============+================+\n",
            "| thalach(high) |         0.5725 |\n",
            "+---------------+----------------+\n",
            "| thalach(low)  |         0.4275 |\n",
            "+---------------+----------------+\n"
          ]
        }
      ],
      "source": [
        "import pandas as pd\n",
        "from sklearn.preprocessing import MinMaxScaler\n",
        "from pgmpy.models import DiscreteBayesianNetwork\n",
        "from pgmpy.estimators import MaximumLikelihoodEstimator\n",
        "from pgmpy.inference import VariableElimination\n",
        "\n",
        "url = \"https://raw.githubusercontent.com/aiplanethub/Datasets/master/heart_disease.csv\"\n",
        "df = pd.read_csv(url)\n",
        "\n",
        "df = df.drop_duplicates()\n",
        "df = df.dropna()\n",
        "\n",
        "numeric_cols = ['age', 'trestbps', 'chol', 'thalach', 'oldpeak']\n",
        "scaler = MinMaxScaler()\n",
        "df[numeric_cols] = scaler.fit_transform(df[numeric_cols])\n",
        "\n",
        "model = DiscreteBayesianNetwork([\n",
        "    ('age', 'fbs'),\n",
        "    ('fbs', 'target'),\n",
        "    ('target', 'chol'),\n",
        "    ('target', 'thalach')\n",
        "])\n",
        "\n",
        "df_discrete = df.copy()\n",
        "df_discrete['age'] = pd.cut(df['age'], bins=3, labels=['young', 'middle', 'old'])\n",
        "df_discrete['chol'] = pd.cut(df['chol'], bins=2, labels=['low', 'high'])\n",
        "df_discrete['thalach'] = pd.cut(df['thalach'], bins=2, labels=['low', 'high'])\n",
        "\n",
        "model.fit(df_discrete, estimator=MaximumLikelihoodEstimator)\n",
        "\n",
        "# for cpd in model.get_cpds():\n",
        "#     print(f\"\\nCPD for {cpd.variable}:\")\n",
        "#     print(cpd)\n",
        "\n",
        "infer = VariableElimination(model)\n",
        "\n",
        "# Probability of heart disease (target=1) given age='old'\n",
        "prob_heart_disease_given_old = infer.query(variables=['target'], evidence={'age': 'old'})\n",
        "print(\"\\nProbability of heart disease given old age:\")\n",
        "print(prob_heart_disease_given_old)\n",
        "\n",
        "# Probability of heart disease (target=1) given age='young'\n",
        "prob_heart_disease_given_young = infer.query(variables=['target'], evidence={'age': 'young'})\n",
        "print(\"\\nProbability of heart disease given young age:\")\n",
        "print(prob_heart_disease_given_young)\n",
        "\n",
        "# Cholesterol distribution when target=1 (heart disease) and fbs=1 (high fasting blood sugar)\n",
        "chol_dist = infer.query(variables=['chol'], evidence={'target': 1, 'fbs': 1})\n",
        "print(\"\\nCholesterol distribution given heart disease and high fasting blood sugar:\")\n",
        "print(chol_dist)\n",
        "\n",
        "# Most likely thalach value when target=0 (no heart disease)\n",
        "thalach_dist = infer.query(variables=['thalach'], evidence={'target': 0})\n",
        "print(\"\\nMax heart rate distribution given no heart disease:\")\n",
        "print(thalach_dist)"
      ]
    }
  ]
}